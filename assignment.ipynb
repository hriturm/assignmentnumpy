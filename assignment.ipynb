{
 "cells": [
  {
   "cell_type": "code",
   "execution_count": 15,
   "id": "e18e0589",
   "metadata": {},
   "outputs": [
    {
     "name": "stdout",
     "output_type": "stream",
     "text": [
      "[0. 0. 0. 0. 1. 0. 0. 0. 0. 0.]\n"
     ]
    }
   ],
   "source": [
    "#Assignment\n",
    "# 1.Create a null vector of size 10 but the fifth value which is 1\n",
    "import numpy as np\n",
    "vector = np.zeros(10)\n",
    "vector[4] = 1\n",
    "print(vector)"
   ]
  },
  {
   "cell_type": "code",
   "execution_count": 16,
   "id": "bf98c04d",
   "metadata": {},
   "outputs": [
    {
     "name": "stdout",
     "output_type": "stream",
     "text": [
      "[10 11 12 13 14 15 16 17 18 19 20 21 22 23 24 25 26 27 28 29 30 31 32 33\n",
      " 34 35 36 37 38 39 40 41 42 43 44 45 46 47 48 49]\n"
     ]
    }
   ],
   "source": [
    "# 2.Create a vector with values ranging from 10 to 49.\n",
    "vector = np.arange(10,50)\n",
    "print(vector)"
   ]
  },
  {
   "cell_type": "code",
   "execution_count": 19,
   "id": "c442cdd6",
   "metadata": {},
   "outputs": [
    {
     "name": "stdout",
     "output_type": "stream",
     "text": [
      "[[0 1 2]\n",
      " [3 4 5]\n",
      " [6 7 8]]\n"
     ]
    }
   ],
   "source": [
    "# 3. Create a 3x3 matrix with values ranging from 0 to 8\n",
    "matrix = np.arange(9).reshape(3,3)\n",
    "print(matrix)"
   ]
  },
  {
   "cell_type": "code",
   "execution_count": 20,
   "id": "f45434d1",
   "metadata": {},
   "outputs": [
    {
     "name": "stdout",
     "output_type": "stream",
     "text": [
      "(array([0, 1, 4]),)\n"
     ]
    }
   ],
   "source": [
    "# 4.Find indices of non-zero elements from [1,2,0,0,4,0]\n",
    "non_zero = np.nonzero([1,2,0,0,4,0])\n",
    "print(non_zero)"
   ]
  },
  {
   "cell_type": "code",
   "execution_count": 35,
   "id": "28053952",
   "metadata": {},
   "outputs": [
    {
     "name": "stdout",
     "output_type": "stream",
     "text": [
      "[[ 59  77  83  42  65  70  76  22  37  83]\n",
      " [ 90  22  26  45   2   5   2  14  34  93]\n",
      " [ 45  89   4  25  24  68  74  50  10  61]\n",
      " [ 87  13  97  31  27  44  53  17   2   5]\n",
      " [ 99  79  94  48  36  58  52  82  48  92]\n",
      " [  5   6  16  46  14  66  33  96  37  59]\n",
      " [ 97  25  69  53  90  14  23  59 100  86]\n",
      " [ 50  18  49  51  42  42  27  86  45  47]\n",
      " [ 90 100   5  10  53  57  49  46  25  73]\n",
      " [ 45  56  48 100  74  40   9  21  87  79]]\n",
      "\n",
      "Minimum Value : 2\n",
      "\n",
      "Maxium Value : 100\n"
     ]
    }
   ],
   "source": [
    "# 5.Create a 10x10 array with random values and find the minimum and maximum values.\n",
    "arr = np.random.randint(low=1,high=101,size=(10,10))\n",
    "print(arr)\n",
    "print(\"\\nMinimum Value :\", arr.min())\n",
    "print(\"\\nMaxium Value :\", arr.max())"
   ]
  },
  {
   "cell_type": "code",
   "execution_count": 34,
   "id": "fbeb08b2",
   "metadata": {},
   "outputs": [
    {
     "name": "stdout",
     "output_type": "stream",
     "text": [
      "Array of random value\n",
      " [8.35101800e-01 1.26319792e-01 5.06510713e-01 9.80092289e-01\n",
      " 5.59534397e-01 2.70904083e-01 5.23218540e-01 9.22270175e-01\n",
      " 7.10527446e-01 3.12397416e-01 5.91127718e-01 9.53189227e-01\n",
      " 4.26189453e-01 4.45327343e-01 6.13228697e-02 3.48182719e-01\n",
      " 1.72873039e-01 7.85644384e-01 8.88433053e-01 5.27474117e-01\n",
      " 3.53539504e-04 7.68458326e-01 8.00822761e-01 7.80935538e-01\n",
      " 5.07974988e-02 3.39512701e-01 1.14154541e-01 3.00567121e-01\n",
      " 2.31417025e-01 1.06075246e-01]\n",
      "\n",
      "\n",
      "Mean value :  0.48132449564323115\n"
     ]
    }
   ],
   "source": [
    "# 6.Create a random vector of size 30 and find the mean value.\n",
    "arr = np.random.random(30)\n",
    "mean = arr.mean()\n",
    "print(\"Array of random value\\n\", arr)\n",
    "print(\"\\n\\nMean value : \",mean)"
   ]
  },
  {
   "cell_type": "code",
   "execution_count": null,
   "id": "10648efc",
   "metadata": {},
   "outputs": [],
   "source": []
  }
 ],
 "metadata": {
  "kernelspec": {
   "display_name": "Python 3 (ipykernel)",
   "language": "python",
   "name": "python3"
  },
  "language_info": {
   "codemirror_mode": {
    "name": "ipython",
    "version": 3
   },
   "file_extension": ".py",
   "mimetype": "text/x-python",
   "name": "python",
   "nbconvert_exporter": "python",
   "pygments_lexer": "ipython3",
   "version": "3.9.7"
  }
 },
 "nbformat": 4,
 "nbformat_minor": 5
}
